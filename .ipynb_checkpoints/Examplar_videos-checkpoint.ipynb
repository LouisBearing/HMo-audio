{
 "cells": [
  {
   "cell_type": "markdown",
   "id": "9d40e7d1",
   "metadata": {},
   "source": [
    "# Data visualization"
   ]
  },
  {
   "cell_type": "code",
   "execution_count": 1,
   "id": "6ec67dbb",
   "metadata": {},
   "outputs": [],
   "source": [
    "from IPython import display\n",
    "from ipywidgets import Output, GridspecLayout\n",
    "import os"
   ]
  },
  {
   "cell_type": "code",
   "execution_count": 2,
   "id": "4c24c33c",
   "metadata": {},
   "outputs": [],
   "source": [
    "dir_path = r'C:\\Users\\laeri\\video-preprocessing\\HMo-audio\\dataset_viz\\vox'\n",
    "files = os.listdir(dir_path)"
   ]
  },
  {
   "cell_type": "markdown",
   "id": "3e748ed5",
   "metadata": {},
   "source": [
    "### VoxCeleb data preparation"
   ]
  },
  {
   "cell_type": "code",
   "execution_count": 5,
   "id": "0d21cff9",
   "metadata": {
    "scrolled": false
   },
   "outputs": [
    {
     "data": {
      "application/vnd.jupyter.widget-view+json": {
       "model_id": "dead0d2bf8b64299ba989d9a61e42cd9",
       "version_major": 2,
       "version_minor": 0
      },
      "text/plain": [
       "GridspecLayout(children=(Output(layout=Layout(grid_area='widget002')), Output(layout=Layout(grid_area='widget0…"
      ]
     },
     "metadata": {},
     "output_type": "display_data"
    }
   ],
   "source": [
    "n_x = 4\n",
    "n_y = 3\n",
    "grid = GridspecLayout(n_x, n_y)\n",
    "\n",
    "for i, filepath in enumerate(files):\n",
    "    if i >= n_x * n_y:\n",
    "        break\n",
    "    out = Output()\n",
    "    with out:\n",
    "        display.display(display.Video(os.path.join(dir_path, filepath), embed=True, width=300))\n",
    "    grid[i // n_x, i % n_y] = out\n",
    "\n",
    "grid"
   ]
  },
  {
   "cell_type": "code",
   "execution_count": null,
   "id": "42232743",
   "metadata": {},
   "outputs": [],
   "source": []
  }
 ],
 "metadata": {
  "kernelspec": {
   "display_name": "Python 3 (ipykernel)",
   "language": "python",
   "name": "python3"
  },
  "language_info": {
   "codemirror_mode": {
    "name": "ipython",
    "version": 3
   },
   "file_extension": ".py",
   "mimetype": "text/x-python",
   "name": "python",
   "nbconvert_exporter": "python",
   "pygments_lexer": "ipython3",
   "version": "3.9.13"
  }
 },
 "nbformat": 4,
 "nbformat_minor": 5
}
